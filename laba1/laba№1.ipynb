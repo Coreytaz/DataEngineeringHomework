{
 "cells": [
  {
   "cell_type": "code",
   "execution_count": 1,
   "metadata": {},
   "outputs": [
    {
     "name": "stdout",
     "output_type": "stream",
     "text": [
      "Requirement already satisfied: numpy in d:\\вуз\\инжениренг данных\\github\\dataengineeringhomework\\.venv\\lib\\site-packages (2.1.3)\n",
      "Requirement already satisfied: pandas in d:\\вуз\\инжениренг данных\\github\\dataengineeringhomework\\.venv\\lib\\site-packages (2.2.3)\n",
      "Requirement already satisfied: numpy>=1.26.0 in d:\\вуз\\инжениренг данных\\github\\dataengineeringhomework\\.venv\\lib\\site-packages (from pandas) (2.1.3)\n",
      "Requirement already satisfied: python-dateutil>=2.8.2 in d:\\вуз\\инжениренг данных\\github\\dataengineeringhomework\\.venv\\lib\\site-packages (from pandas) (2.9.0.post0)\n",
      "Requirement already satisfied: pytz>=2020.1 in d:\\вуз\\инжениренг данных\\github\\dataengineeringhomework\\.venv\\lib\\site-packages (from pandas) (2024.2)\n",
      "Requirement already satisfied: tzdata>=2022.7 in d:\\вуз\\инжениренг данных\\github\\dataengineeringhomework\\.venv\\lib\\site-packages (from pandas) (2024.2)\n",
      "Requirement already satisfied: six>=1.5 in d:\\вуз\\инжениренг данных\\github\\dataengineeringhomework\\.venv\\lib\\site-packages (from python-dateutil>=2.8.2->pandas) (1.16.0)\n",
      "Collecting lxml\n",
      "  Using cached lxml-5.3.0-cp312-cp312-win_amd64.whl.metadata (3.9 kB)\n",
      "Using cached lxml-5.3.0-cp312-cp312-win_amd64.whl (3.8 MB)\n",
      "Installing collected packages: lxml\n",
      "Successfully installed lxml-5.3.0\n",
      "Collecting requests\n",
      "  Using cached requests-2.32.3-py3-none-any.whl.metadata (4.6 kB)\n",
      "Collecting charset-normalizer<4,>=2 (from requests)\n",
      "  Using cached charset_normalizer-3.4.0-cp312-cp312-win_amd64.whl.metadata (34 kB)\n",
      "Collecting idna<4,>=2.5 (from requests)\n",
      "  Using cached idna-3.10-py3-none-any.whl.metadata (10 kB)\n",
      "Collecting urllib3<3,>=1.21.1 (from requests)\n",
      "  Using cached urllib3-2.2.3-py3-none-any.whl.metadata (6.5 kB)\n",
      "Collecting certifi>=2017.4.17 (from requests)\n",
      "  Using cached certifi-2024.8.30-py3-none-any.whl.metadata (2.2 kB)\n",
      "Using cached requests-2.32.3-py3-none-any.whl (64 kB)\n",
      "Using cached certifi-2024.8.30-py3-none-any.whl (167 kB)\n",
      "Using cached charset_normalizer-3.4.0-cp312-cp312-win_amd64.whl (102 kB)\n",
      "Using cached idna-3.10-py3-none-any.whl (70 kB)\n",
      "Using cached urllib3-2.2.3-py3-none-any.whl (126 kB)\n",
      "Installing collected packages: urllib3, idna, charset-normalizer, certifi, requests\n",
      "Successfully installed certifi-2024.8.30 charset-normalizer-3.4.0 idna-3.10 requests-2.32.3 urllib3-2.2.3\n"
     ]
    }
   ],
   "source": [
    "!pip install numpy\n",
    "!pip install pandas\n",
    "!pip install lxml\n",
    "!pip install requests"
   ]
  },
  {
   "cell_type": "markdown",
   "metadata": {},
   "source": [
    "***Вариант №36***"
   ]
  },
  {
   "cell_type": "markdown",
   "metadata": {},
   "source": [
    "Задание №1"
   ]
  },
  {
   "cell_type": "code",
   "execution_count": 2,
   "metadata": {},
   "outputs": [
    {
     "name": "stdout",
     "output_type": "stream",
     "text": [
      "Создан файл first_task_results.txt\n"
     ]
    }
   ],
   "source": [
    "from collections import Counter\n",
    "import string\n",
    "\n",
    "def process_text(file_path):\n",
    "    with open(file_path, \"r\") as file:\n",
    "        text = file.read().lower()\n",
    "\n",
    "    translator = str.maketrans(\"\", \"\", string.punctuation)\n",
    "    words = text.translate(translator).split()\n",
    "\n",
    "    word_counts = Counter(words)\n",
    "    sorted_word_counts = sorted(\n",
    "        word_counts.items(), key=lambda item: item[1], reverse=True\n",
    "    )\n",
    "\n",
    "    total_letters = sum(char.isalpha() for char in text)\n",
    "    consonants = sum(char in \"bcdfghjklmnpqrstvwxyz\" for char in text)\n",
    "    consonant_percentage = (\n",
    "        (consonants / total_letters) * 100 if total_letters > 0 else 0\n",
    "    )\n",
    "\n",
    "    with open(\"first_task_results.txt\", \"w\") as output_file:\n",
    "        for word, freq in sorted_word_counts:\n",
    "            output_file.write(f\"{word}:{freq}\\n\")\n",
    "        output_file.write(\"-----------\\n\")\n",
    "        output_file.write(f\"Общее количество согласных: {consonants}\\n\")\n",
    "        output_file.write(f\"Процент согласных: {consonant_percentage:.2f}%\\n\")\n",
    "\n",
    "\n",
    "process_text(\"first_task.txt\")\n",
    "print(\"Создан файл first_task_results.txt\")"
   ]
  },
  {
   "cell_type": "markdown",
   "metadata": {},
   "source": [
    "Задание №2"
   ]
  },
  {
   "cell_type": "code",
   "execution_count": 3,
   "metadata": {},
   "outputs": [
    {
     "name": "stdout",
     "output_type": "stream",
     "text": [
      "Создан файл second_task_result.txt\n"
     ]
    }
   ],
   "source": [
    "input_file = \"second_task.txt\"\n",
    "output_file = \"second_task_result.txt\"\n",
    "\n",
    "def process_text(input_file, output_file):\n",
    "    with open(input_file, \"r\") as file:\n",
    "        lines = file.readlines()\n",
    "\n",
    "    mod_sums = [\n",
    "        abs(sum(int(num) for num in line.split() if int(num) < 0)) for line in lines\n",
    "    ]\n",
    "\n",
    "    average = sum(mod_sums) / len(mod_sums)\n",
    "\n",
    "    with open(output_file, \"w\") as file:\n",
    "        for mod_sum in mod_sums:\n",
    "            file.write(f\"{mod_sum}\\n\")\n",
    "        file.write(\"-----------\\n\")\n",
    "        file.write(f\"{average}\\n\")\n",
    "\n",
    "\n",
    "process_text(input_file, output_file)\n",
    "print(\"Создан файл second_task_result.txt\")"
   ]
  },
  {
   "cell_type": "markdown",
   "metadata": {},
   "source": [
    "Задание №3"
   ]
  },
  {
   "cell_type": "code",
   "execution_count": 4,
   "metadata": {},
   "outputs": [
    {
     "name": "stdout",
     "output_type": "stream",
     "text": [
      "Создан файл third_task_result.txt\n"
     ]
    }
   ],
   "source": [
    "import numpy as np\n",
    "\n",
    "input_file = \"third_task.txt\"\n",
    "output_file = \"third_task_result.txt\"\n",
    "\n",
    "def replace_na_with_neighbors_avg(row):\n",
    "    result = []\n",
    "    for i, val in enumerate(row):\n",
    "        if val == \"N/A\":\n",
    "            left = float(row[i - 1]) if i > 0 else None\n",
    "            right = float(row[i + 1]) if i < len(row) - 1 else None\n",
    "            neighbors = [v for v in [left, right] if v is not None]\n",
    "            result.append(sum(neighbors) / len(neighbors))\n",
    "        else:\n",
    "            result.append(float(val))\n",
    "    return result\n",
    "\n",
    "\n",
    "def process_text(input_file, output_file):\n",
    "    with open(input_file, \"r\") as file:\n",
    "        lines = file.readlines()\n",
    "\n",
    "    filtered_averages = []\n",
    "\n",
    "    for line in lines:\n",
    "        row = line.strip().split()\n",
    "        row = replace_na_with_neighbors_avg(row)\n",
    "        filtered_row = [val for val in row if val % 5 == 0]\n",
    "        if filtered_row:\n",
    "            avg_value = np.mean(filtered_row)\n",
    "            filtered_averages.append(avg_value)\n",
    "        else:\n",
    "            filtered_averages.append(np.nan)\n",
    "\n",
    "    with open(output_file, \"w\") as file:\n",
    "        for avg in filtered_averages:\n",
    "            file.write(f\"{avg}\\n\")\n",
    "\n",
    "process_text(input_file, output_file)\n",
    "print(\"Создан файл third_task_result.txt\")"
   ]
  },
  {
   "cell_type": "markdown",
   "metadata": {},
   "source": [
    "Задание №4"
   ]
  },
  {
   "cell_type": "code",
   "execution_count": 5,
   "metadata": {},
   "outputs": [
    {
     "name": "stdout",
     "output_type": "stream",
     "text": [
      "Создан файл fourth_task_result.csv\n"
     ]
    }
   ],
   "source": [
    "import pandas as pd\n",
    "\n",
    "input_file = \"fourth_task.txt\"\n",
    "output_file = \"fourth_task_result.csv\"\n",
    "mod_output_file = \"fourth_task_result.csv\"\n",
    "\n",
    "\n",
    "def process_text(input_file, output_file, mod_output_file):\n",
    "    df = pd.read_csv(input_file, sep=\",\")\n",
    "    df.drop(columns=[\"description\"], inplace=True)\n",
    "    average_price = df[\"price\"].mean()\n",
    "    max_rating = df[\"rating\"].max()\n",
    "    min_rating = df[\"rating\"].min()\n",
    "    filtered_df = df[df[\"status\"] != \"Temporarily Unavailable\"]\n",
    "    with open(output_file, \"w\") as f:\n",
    "        f.write(f\"{average_price}\\n\")\n",
    "        f.write(f\"{max_rating}\\n\")\n",
    "        f.write(f\"{min_rating}\\n\")\n",
    "    filtered_df.to_csv(mod_output_file, index=False)\n",
    "\n",
    "\n",
    "process_text(input_file, output_file, mod_output_file)\n",
    "print(f\"Создан файл {output_file}\")"
   ]
  },
  {
   "cell_type": "markdown",
   "metadata": {},
   "source": [
    "Задание №5"
   ]
  },
  {
   "cell_type": "code",
   "execution_count": 6,
   "metadata": {},
   "outputs": [],
   "source": [
    "import pandas as pd\n",
    "\n",
    "tables = pd.read_html(\"fifth_task.html\", encoding=\"utf-8\")\n",
    "\n",
    "df = tables[0]\n",
    "\n",
    "df.to_csv(\"fifth_task_result.csv\", index=False, encoding=\"utf-8\")"
   ]
  },
  {
   "cell_type": "markdown",
   "metadata": {},
   "source": [
    "Задание №6"
   ]
  },
  {
   "cell_type": "code",
   "execution_count": 7,
   "metadata": {},
   "outputs": [
    {
     "name": "stdout",
     "output_type": "stream",
     "text": [
      "Создан файл sixth_result.html\n"
     ]
    }
   ],
   "source": [
    "import requests\n",
    "\n",
    "output_file = \"sixth_result.html\"\n",
    "url = \"https://jsonplaceholder.typicode.com/posts\"\n",
    "\n",
    "\n",
    "def process_html(url, output_file):\n",
    "    response = requests.get(url)\n",
    "    data = response.json()\n",
    "    html_output = \"<html><body><h1>Posts</h1><ul>\"\n",
    "    for post in data:\n",
    "        html_output += f\"<li><h2>{post['title']}</h2><p>{post['body']}</p></li>\"\n",
    "    html_output += \"</ul></body></html>\"\n",
    "\n",
    "    with open(output_file, \"w\") as file:\n",
    "        file.write(html_output)\n",
    "\n",
    "    print(f\"Создан файл {output_file}\")\n",
    "\n",
    "\n",
    "process_html(url, output_file)"
   ]
  }
 ],
 "metadata": {
  "kernelspec": {
   "display_name": ".venv",
   "language": "python",
   "name": "python3"
  },
  "language_info": {
   "codemirror_mode": {
    "name": "ipython",
    "version": 3
   },
   "file_extension": ".py",
   "mimetype": "text/x-python",
   "name": "python",
   "nbconvert_exporter": "python",
   "pygments_lexer": "ipython3",
   "version": "3.12.6"
  }
 },
 "nbformat": 4,
 "nbformat_minor": 2
}
